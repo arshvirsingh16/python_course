{
 "cells": [
  {
   "cell_type": "code",
   "execution_count": 2,
   "metadata": {},
   "outputs": [
    {
     "name": "stdout",
     "output_type": "stream",
     "text": [
      " | | \n",
      " | | \n",
      " | | \n"
     ]
    }
   ],
   "source": [
    "# PLAYER CHOICE\n",
    "def player_choice():\n",
    "    user_choice = input('Do you want to be X or O?')\n",
    "    return user_choice\n",
    "\n",
    "#CHECK CHOICE\n",
    "def check_choice(user_choice):    \n",
    "    if user_choice != 'X' or user_choice != 'O':\n",
    "        print('Invalid input. Please choose either X or O.')\n",
    "        player_choice()\n",
    "\n",
    "#SETUP BOARD\n",
    "def show_board(board):\n",
    "    print(board[1]+'|'+board[2]+'|'+board[3])\n",
    "    print(board[4]+'|'+board[5]+'|'+board[6])\n",
    "    print(board[7]+'|'+board[8]+'|'+board[9])\n",
    "\n",
    "test_board = [' ']*10\n",
    "show_board(test_board)\n",
    "\n",
    "\n",
    "\n",
    "\n"
   ]
  }
 ],
 "metadata": {
  "kernelspec": {
   "display_name": "Python 3",
   "language": "python",
   "name": "python3"
  },
  "language_info": {
   "codemirror_mode": {
    "name": "ipython",
    "version": 3
   },
   "file_extension": ".py",
   "mimetype": "text/x-python",
   "name": "python",
   "nbconvert_exporter": "python",
   "pygments_lexer": "ipython3",
   "version": "3.9.13"
  },
  "orig_nbformat": 4
 },
 "nbformat": 4,
 "nbformat_minor": 2
}
